{
 "cells": [
  {
   "cell_type": "code",
   "execution_count": 4,
   "id": "a1ffc5fa-b4d3-409b-bc85-e83918ecbb6a",
   "metadata": {},
   "outputs": [],
   "source": [
    "# !pip install torchvision"
   ]
  },
  {
   "cell_type": "code",
   "execution_count": 12,
   "id": "399f97be-1b72-4fcb-8d49-20c9af7889a2",
   "metadata": {},
   "outputs": [],
   "source": [
    "import torch"
   ]
  },
  {
   "cell_type": "code",
   "execution_count": 13,
   "id": "378a9f84-9837-403a-88b0-66b66159a0ba",
   "metadata": {},
   "outputs": [],
   "source": [
    "from torchvision import datasets\n",
    "from torchvision.transforms import ToTensor, RandomAffine"
   ]
  },
  {
   "cell_type": "code",
   "execution_count": 34,
   "id": "c9840975-e7a1-4874-9c65-707fc30ff2d2",
   "metadata": {},
   "outputs": [],
   "source": [
    "## shift\n",
    "shift_min = RandomAffine(degrees = 0, translate = (0.1, 0.1))\n",
    "shift_max = RandomAffine(degrees = 0, translate = (0.2, 0.2))"
   ]
  },
  {
   "cell_type": "markdown",
   "id": "661f8758-d8a2-40d3-a6f5-33dda64e50a8",
   "metadata": {},
   "source": [
    "### Dataset"
   ]
  },
  {
   "cell_type": "code",
   "execution_count": null,
   "id": "920ad62c-0da5-40fd-b784-92853d6e87e1",
   "metadata": {},
   "outputs": [],
   "source": [
    "training_data = datasets.MNIST(\n",
    "    root=\"Mnist_data\",\n",
    "    train=True,\n",
    "    download=True,\n",
    "    transform=ToTensor()\n",
    ")"
   ]
  },
  {
   "cell_type": "code",
   "execution_count": 263,
   "id": "df4fa4d4-e78e-4b4e-ab1c-1e0211473a96",
   "metadata": {},
   "outputs": [
    {
     "name": "stdout",
     "output_type": "stream",
     "text": [
      "Training data : torch.Size([10000, 1, 28, 28]) \n",
      "Testing data: torch.Size([10000])\n"
     ]
    }
   ],
   "source": [
    "\n",
    "n1 = 10000 # To reduce the traning time\n",
    "n2 = 12000\n",
    "x_train = training_data.data[:n1].float().unsqueeze(1)  # [ B, C, H, W]\n",
    "y_train = training_data.targets[:n1]\n",
    "\n",
    "x_test = training_data.data[n1:n2].float().unsqueeze(1)\n",
    "y_test = training_data.targets[n1:n2]\n",
    "\n",
    "print(\"Training data :\",x_train.shape,f'\\nTesting data: {y_train.shape}')"
   ]
  },
  {
   "cell_type": "code",
   "execution_count": null,
   "id": "7f0ece01-b5bf-42be-b81a-d7d28197fcea",
   "metadata": {},
   "outputs": [],
   "source": []
  },
  {
   "cell_type": "code",
   "execution_count": 107,
   "id": "cbbdb84d-9a91-45ac-b8e9-82b6573d8124",
   "metadata": {},
   "outputs": [],
   "source": [
    "import matplotlib.pyplot as plt"
   ]
  },
  {
   "cell_type": "code",
   "execution_count": 269,
   "id": "abf1ec55-84e2-4912-b5b9-875e24207dcd",
   "metadata": {},
   "outputs": [
    {
     "data": {
      "text/plain": [
       "<matplotlib.image.AxesImage at 0x1faac77daf0>"
      ]
     },
     "execution_count": 269,
     "metadata": {},
     "output_type": "execute_result"
    },
    {
     "data": {
      "image/png": "[encoded data removed]",
      "text/plain": [
       "<Figure size 640x480 with 1 Axes>"
      ]
     },
     "metadata": {},
     "output_type": "display_data"
    }
   ],
   "source": [
    "idx = torch.randint(0,n1, (1,))[0]\n",
    "plt.imshow(x_train[idx][0], cmap='gray')"
   ]
  },
  {
   "cell_type": "markdown",
   "id": "274bdeea-939f-4840-8dca-3fe97cc96fd7",
   "metadata": {},
   "source": [
    "### model building"
   ]
  },
  {
   "cell_type": "code",
   "execution_count": 247,
   "id": "70d27351-3324-4745-ab73-49b0ac57d93d",
   "metadata": {},
   "outputs": [],
   "source": [
    "import torch.nn as nn\n",
    "import torch.nn.functional as F\n",
    "import torch.optim as optim\n",
    "\n",
    "\n",
    "class Net(nn.Module):\n",
    "    def __init__(self):\n",
    "        super(Net, self).__init__()\n",
    "        self.conv1 = nn.Conv2d(1, 10, 3)\n",
    "        self.flatten = nn.Flatten()\n",
    "        self.fc1 = nn.Linear(6760,10)\n",
    "        nn.init.kaiming_normal_(self.fc1.weight, mode='fan_in', nonlinearity='relu')\n",
    "        nn.init.kaiming_normal_(self.conv1.weight, mode='fan_in', nonlinearity='relu')\n",
    "        \n",
    "    def forward(self, x):\n",
    "        x = F.relu(self.conv1(x))\n",
    "        self.map = x\n",
    "        x = self.flatten(x)\n",
    "        x = self.fc1(x)\n",
    "        return x\n",
    "        \n",
    "\n",
    "class Netv2(nn.Module):\n",
    "    def __init__(self):\n",
    "        super(Netv2, self).__init__()\n",
    "        self.conv1 = nn.Conv2d(1, 10, 3)\n",
    "        self.m = nn.MaxPool2d(2)\n",
    "        self.flatten = nn.Flatten()\n",
    "        self.fc1 = nn.Linear(1690,10)\n",
    "        \n",
    "        nn.init.kaiming_normal_(self.conv1.weight, mode='fan_in', nonlinearity='relu')\n",
    "        nn.init.kaiming_normal_(self.fc1.weight, mode='fan_in', nonlinearity='relu')\n",
    "\n",
    "    def forward(self, x):\n",
    "        x = F.relu(self.conv1(x))\n",
    "        x = self.m(x)\n",
    "        self.map = x\n",
    "        x = self.flatten(x)\n",
    "        x = self.fc1(x)\n",
    "        return x\n",
    "        \n",
    "        "
   ]
  },
  {
   "cell_type": "code",
   "execution_count": 289,
   "id": "51b4f029-f794-4d0f-be89-0b857258deb4",
   "metadata": {},
   "outputs": [],
   "source": [
    "loss_fn = nn.CrossEntropyLoss()\n",
    "\n",
    "def Train(model):\n",
    "    \n",
    "    optimizer = optim.SGD(model.parameters(), lr=0.001, momentum=0.9)\n",
    "    n_epochs = 5\n",
    "    losses = []\n",
    "    for epoch in range(n_epochs):\n",
    "        batch_loss = torch.tensor([])\n",
    "        for inputs, labels in batch_generator(x_train, y_train, 64):\n",
    "    \n",
    "            y_pred = model(inputs)\n",
    "            loss = loss_fn(y_pred, labels)\n",
    "            optimizer.zero_grad()\n",
    "            loss.backward()\n",
    "            optimizer.step()\n",
    "            batch_loss = torch.cat((batch_loss, loss.detach().unsqueeze(0)), dim=0)\n",
    "        losses.append(batch_loss.mean().item())    \n",
    "    plt.plot(losses)"
   ]
  },
  {
   "cell_type": "code",
   "execution_count": 290,
   "id": "a15e4fe9-0215-4362-b286-6bd8f7c1cc2a",
   "metadata": {},
   "outputs": [
    {
     "data": {
      "image/png": "[encoded data removed]",
      "text/plain": [
       "<Figure size 640x480 with 1 Axes>"
      ]
     },
     "metadata": {},
     "output_type": "display_data"
    }
   ],
   "source": [
    "model = Net()\n",
    "modelv2 = Netv2()\n",
    "\n",
    "Train(model)\n",
    "Train(modelv2)"
   ]
  },
  {
   "cell_type": "code",
   "execution_count": 299,
   "id": "5861802f-c56b-48bc-98a4-bbe1a48226ae",
   "metadata": {},
   "outputs": [],
   "source": [
    "def split(model, data):\n",
    "    y_pred = model(data[0])\n",
    "    loss = loss_fn(y_pred, data[1])\n",
    "    # print(f\"loss  : {loss.item()}\")\n",
    "    return loss\n",
    "    "
   ]
  },
  {
   "cell_type": "code",
   "execution_count": 313,
   "id": "8dd3dc5a-d0cc-49b0-bee4-45051f623f4e",
   "metadata": {},
   "outputs": [],
   "source": [
    "def translation_invariance(modelv1, modelv2):\n",
    "    org_loss_v1 = split(modelv1,  (x_train, y_train))\n",
    "    org_loss_v2 = split(modelv2,  (x_train, y_train))\n",
    "\n",
    "    x = shift_min(x_train)\n",
    "    min_loss_v1 = split(modelv1,  (x, y_train))\n",
    "    min_loss_v2 = split(modelv2,  (x, y_train))\n",
    "\n",
    "    x = shift_max(x_train)\n",
    "    lar_loss_v1 = split(modelv1,  (x, y_train))\n",
    "    lar_loss_v2 = split(modelv2,  (x, y_train))\n",
    "    \n",
    "    print(\"       models       :  modelv1: modelv2\")\n",
    "    print(\"\\n\")\n",
    "    print(f\"    Xtrain loss     : {org_loss_v1: .4f} : {org_loss_v2: .4f}\")\n",
    "    print(\"\\n\")\n",
    "    print(f\"org min shift loss  : {min_loss_v1: .4f} : {min_loss_v2: .4f}\")\n",
    "    print(f\"diff min shift loss : {min_loss_v1-org_loss_v1: .4f} : {min_loss_v2-org_loss_v2: .4f}\")\n",
    "    print(\"\\n\")\n",
    "    print(f\"max shift loss      : {lar_loss_v1: .4f} : {lar_loss_v2: .4f}\")\n",
    "    print(f\"diff max shift loss : {lar_loss_v1-org_loss_v1: .4f} : {lar_loss_v2-org_loss_v2: .4f}\")\n",
    "\n",
    "\n",
    "\n",
    "    "
   ]
  },
  {
   "cell_type": "code",
   "execution_count": 314,
   "id": "447d12a0-609c-41a8-a852-b8a4cb39182b",
   "metadata": {},
   "outputs": [
    {
     "name": "stdout",
     "output_type": "stream",
     "text": [
      "       models       :  modelv1: modelv2\n",
      "\n",
      "\n",
      "    Xtrain loss     :  0.3094 :  2.2922\n",
      "\n",
      "\n",
      "org min shift loss  :  1.2328 :  2.2981\n",
      "diff min shift loss :  0.9234 :  0.0059\n",
      "\n",
      "\n",
      "max shift loss      :  1.4647 :  2.3010\n",
      "diff max shift loss :  1.1553 :  0.0088\n"
     ]
    }
   ],
   "source": [
    "translation_invariance(model, modelv2)"
   ]
  },
  {
   "cell_type": "code",
   "execution_count": 316,
   "id": "612b33cc-ce7f-4d79-a06d-a4284b64e8bc",
   "metadata": {},
   "outputs": [
    {
     "name": "stdout",
     "output_type": "stream",
     "text": [
      " Volume in drive D has no label.\n",
      " Volume Serial Number is 4882-5B27\n",
      "\n",
      " Directory of D:\\jupyter_lab\\cnn_tutorial\n",
      "\n",
      "15-08-2024  15:14    <DIR>          .\n",
      "15-08-2024  15:14    <DIR>          ..\n",
      "12-08-2024  20:05    <DIR>          .ipynb_checkpoints\n",
      "12-08-2024  20:24    <DIR>          Mnist_data\n",
      "15-08-2024  15:14            37,244 tr_invar_equv.ipynb\n",
      "               1 File(s)         37,244 bytes\n",
      "               4 Dir(s)  227,999,113,216 bytes free\n"
     ]
    }
   ],
   "source": [
    "!dir"
   ]
  },
  {
   "cell_type": "code",
   "execution_count": null,
   "id": "4f166d05-ec13-46d7-9419-d14c6b9be836",
   "metadata": {},
   "outputs": [],
   "source": []
  }
 ],
 "metadata": {
  "kernelspec": {
   "display_name": "Python 3 (ipykernel)",
   "language": "python",
   "name": "python3"
  },
  "language_info": {
   "codemirror_mode": {
    "name": "ipython",
    "version": 3
   },
   "file_extension": ".py",
   "mimetype": "text/x-python",
   "name": "python",
   "nbconvert_exporter": "python",
   "pygments_lexer": "ipython3",
   "version": "3.12.2"
  }
 },
 "nbformat": 4,
 "nbformat_minor": 5
}
